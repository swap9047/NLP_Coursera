{
 "cells": [
  {
   "cell_type": "markdown",
   "metadata": {
    "collapsed": true
   },
   "source": [
    "# Recognize named entities on Twitter with LSTMs\n",
    "\n",
    "In this assignment, you will use a recurrent neural network to solve Named Entity Recognition (NER) problem. NER is a common task in natural language processing systems. It serves for extraction such entities from the text as persons, organizations, locations, etc. In this task you will experiment to recognize named entities from Twitter.\n",
    "\n",
    "For example, we want to extract persons' and organizations' names from the text. Than for the input text:\n",
    "\n",
    "    Ian Goodfellow works for Google Brain\n",
    "\n",
    "a NER model needs to provide the following sequence of tags:\n",
    "\n",
    "    B-PER I-PER    O     O   B-ORG  I-ORG\n",
    "\n",
    "Where *B-* and *I-* prefixes stand for the beginning and inside of the entity, while *O* stands for out of tag or no tag. Markup with the prefix scheme is called *BIO markup*. This markup is introduced for distinguishing of consequent entities with similar types.\n",
    "\n",
    "A solution of the task will be based on neural networks, particularly, on Bi-Directional Long Short-Term Memory Networks (Bi-LSTMs).\n",
    "\n",
    "### Libraries\n",
    "\n",
    "For this task you will need the following libraries:\n",
    " - [Keras]\n",
    " - [Numpy](http://www.numpy.org) — a package for scientific computing.\n",
    " \n",
    "If you have never worked with Tensorflow, you would probably need to read some tutorials during your work on this assignment, e.g. [this one](https://www.tensorflow.org/tutorials/recurrent) could be a good starting point. "
   ]
  },
  {
   "cell_type": "markdown",
   "metadata": {},
   "source": [
    "### Data\n",
    "\n",
    "The following cell will download all data required for this assignment into the folder `week2/data`."
   ]
  },
  {
   "cell_type": "code",
   "execution_count": 61,
   "metadata": {},
   "outputs": [
    {
     "name": "stdout",
     "output_type": "stream",
     "text": [
      "File data\\train.txt is already downloaded.\n",
      "File data\\validation.txt is already downloaded.\n",
      "File data\\test.txt is already downloaded.\n"
     ]
    }
   ],
   "source": [
    "import sys\n",
    "import re\n",
    "sys.path.append(\"..\")\n",
    "from common.download_utils import download_week2_resources\n",
    "import numpy as np\n",
    "\n",
    "download_week2_resources()"
   ]
  },
  {
   "cell_type": "markdown",
   "metadata": {},
   "source": [
    "### Load the Twitter Named Entity Recognition corpus\n",
    "\n",
    "We will work with a corpus, which contains twits with NE tags. Every line of a file contains a pair of a token (word/punctuation symbol) and a tag, separated by a whitespace. Different tweets are separated by an empty line.\n",
    "\n",
    "The function *read_data* reads a corpus from the *file_path* and returns two lists: one with tokens and one with the corresponding tags. You need to complete this function by adding a code, which will replace a user's nickname to `<USR>` token and any URL to `<URL>` token. You could think that a URL and a nickname are just strings which start with *http://* or *https://* in case of URLs and a *@* symbol for nicknames."
   ]
  },
  {
   "cell_type": "code",
   "execution_count": 62,
   "metadata": {},
   "outputs": [],
   "source": [
    "def read_data(file_path):\n",
    "    import re\n",
    "    tokens = []\n",
    "    tags = []\n",
    "    \n",
    "    tweet_tokens = []\n",
    "    tweet_tags = []\n",
    "    for line in open(file_path, encoding='utf-8'):\n",
    "        line = line.strip()\n",
    "        if not line:\n",
    "            if tweet_tokens:\n",
    "                tokens.append(tweet_tokens)\n",
    "                tags.append(tweet_tags)\n",
    "            tweet_tokens = []\n",
    "            tweet_tags = []\n",
    "        else:\n",
    "            token, tag = line.split()\n",
    "            # Replace all urls with <URL> token\n",
    "            # Replace all users with <USR> token\n",
    "            token=re.sub(r'@.*',r'<USR>',token)\n",
    "            token=re.sub(r'https?://.*',r'<URL>',token)\n",
    "            ######################################\n",
    "            ######### YOUR CODE HERE #############\n",
    "            ######################################\n",
    "            tweet_tokens.append(token)\n",
    "            tweet_tags.append(tag)\n",
    "            \n",
    "    return tokens, tags"
   ]
  },
  {
   "cell_type": "markdown",
   "metadata": {},
   "source": [
    "And now we can load three separate parts of the dataset:\n",
    " - *train* data for training the model;\n",
    " - *validation* data for evaluation and hyperparameters tuning;\n",
    " - *test* data for final evaluation of the model."
   ]
  },
  {
   "cell_type": "code",
   "execution_count": 63,
   "metadata": {},
   "outputs": [],
   "source": [
    "train_tokens, train_tags = read_data('data/train.txt')\n",
    "validation_tokens, validation_tags = read_data('data/validation.txt')\n",
    "test_tokens, test_tags = read_data('data/test.txt')"
   ]
  },
  {
   "cell_type": "markdown",
   "metadata": {},
   "source": [
    "You should always understand what kind of data you deal with. For this purpose, you can print the data running the following cell:"
   ]
  },
  {
   "cell_type": "code",
   "execution_count": 64,
   "metadata": {},
   "outputs": [
    {
     "name": "stdout",
     "output_type": "stream",
     "text": [
      "RT\tO\n",
      "<USR>\tO\n",
      ":\tO\n",
      "Online\tO\n",
      "ticket\tO\n",
      "sales\tO\n",
      "for\tO\n",
      "Ghostland\tB-musicartist\n",
      "Observatory\tI-musicartist\n",
      "extended\tO\n",
      "until\tO\n",
      "6\tO\n",
      "PM\tO\n",
      "EST\tO\n",
      "due\tO\n",
      "to\tO\n",
      "high\tO\n",
      "demand\tO\n",
      ".\tO\n",
      "Get\tO\n",
      "them\tO\n",
      "before\tO\n",
      "they\tO\n",
      "sell\tO\n",
      "out\tO\n",
      "...\tO\n",
      "\n",
      "Apple\tB-product\n",
      "MacBook\tI-product\n",
      "Pro\tI-product\n",
      "A1278\tI-product\n",
      "13.3\tI-product\n",
      "\"\tI-product\n",
      "Laptop\tI-product\n",
      "-\tI-product\n",
      "MD101LL/A\tI-product\n",
      "(\tO\n",
      "June\tO\n",
      ",\tO\n",
      "2012\tO\n",
      ")\tO\n",
      "-\tO\n",
      "Full\tO\n",
      "read\tO\n",
      "by\tO\n",
      "eBay\tB-company\n",
      "<URL>\tO\n",
      "<URL>\tO\n",
      "\n",
      "Happy\tO\n",
      "Birthday\tO\n",
      "<USR>\tO\n",
      "!\tO\n",
      "May\tO\n",
      "Allah\tB-person\n",
      "s.w.t\tO\n",
      "bless\tO\n",
      "you\tO\n",
      "with\tO\n",
      "goodness\tO\n",
      "and\tO\n",
      "happiness\tO\n",
      ".\tO\n",
      "\n"
     ]
    }
   ],
   "source": [
    "for i in range(3):\n",
    "    for token, tag in zip(train_tokens[i], train_tags[i]):\n",
    "        print('%s\\t%s' % (token, tag))\n",
    "    print()"
   ]
  },
  {
   "cell_type": "markdown",
   "metadata": {},
   "source": [
    "### Prepare dictionaries\n",
    "\n",
    "To train a neural network, we will use two mappings: \n",
    "- {token}$\\to${token id}: address the row in embeddings matrix for the current token;\n",
    "- {tag}$\\to${tag id}: one-hot ground truth probability distribution vectors for computing the loss at the output of the network.\n",
    "\n",
    "Now you need to implement the function *build_dict* which will return {token or tag}$\\to${index} and vice versa."
   ]
  },
  {
   "cell_type": "code",
   "execution_count": 65,
   "metadata": {},
   "outputs": [],
   "source": [
    "from collections import defaultdict"
   ]
  },
  {
   "cell_type": "code",
   "execution_count": 66,
   "metadata": {},
   "outputs": [],
   "source": [
    "def build_dict(tokens_or_tags, special_tokens):\n",
    "    \"\"\"\n",
    "        tokens_or_tags: a list of lists of tokens or tags\n",
    "        special_tokens: some special tokens\n",
    "    \"\"\"\n",
    "    # Create a dictionary with default value 0\n",
    "    tok2idx = defaultdict(lambda: 0)\n",
    "    idx2tok = []\n",
    "    \n",
    "    tok=[]\n",
    "    for i in tokens_or_tags:\n",
    "        tok.extend(i)\n",
    "    tok =special_tokens+list(set([i for i in tok if i not in special_tokens]))\n",
    "    \n",
    "    tok2idx={token:idx for idx,token in enumerate(tok)}\n",
    "    idx2tok={val:key for key,val in tok2idx.items()}\n",
    "    \n",
    "    \n",
    "    # Create mappings from tokens to indices and vice versa\n",
    "    # Add special tokens to dictionaries\n",
    "    # The first special token must have index 0\n",
    "    \n",
    "    ######################################\n",
    "    ######### YOUR CODE HERE #############\n",
    "    ######################################\n",
    "    \n",
    "    return tok2idx, idx2tok,tok"
   ]
  },
  {
   "cell_type": "markdown",
   "metadata": {},
   "source": [
    "After implementing the function *build_dict* you can make dictionaries for tokens and tags. Special tokens in our case will be:\n",
    " - `<UNK>` token for out of vocabulary tokens;\n",
    " - `<PAD>` token for padding sentence to the same length when we create batches of sentences."
   ]
  },
  {
   "cell_type": "code",
   "execution_count": 67,
   "metadata": {},
   "outputs": [
    {
     "data": {
      "text/plain": [
       "['<UNK>', '<PAD>', 'a', 'b']"
      ]
     },
     "execution_count": 67,
     "metadata": {},
     "output_type": "execute_result"
    }
   ],
   "source": [
    "['<UNK>', '<PAD>']+['a','b']"
   ]
  },
  {
   "cell_type": "code",
   "execution_count": 68,
   "metadata": {},
   "outputs": [],
   "source": [
    "special_tokens = ['<UNK>', '<PAD>']\n",
    "special_tags = ['O']\n",
    "\n",
    "# Create dictionaries \n",
    "token2idx, idx2token,_ = build_dict(train_tokens + validation_tokens, special_tokens)\n",
    "tag2idx, idx2tag,tag = build_dict(train_tags, special_tags)"
   ]
  },
  {
   "cell_type": "markdown",
   "metadata": {},
   "source": [
    "The next additional functions will help you to create the mapping between tokens and ids for a sentence. "
   ]
  },
  {
   "cell_type": "code",
   "execution_count": 162,
   "metadata": {},
   "outputs": [
    {
     "data": {
      "text/plain": [
       "{'B-company': 2,\n",
       " 'B-facility': 1,\n",
       " 'B-geo-loc': 11,\n",
       " 'B-movie': 4,\n",
       " 'B-musicartist': 19,\n",
       " 'B-other': 15,\n",
       " 'B-person': 14,\n",
       " 'B-product': 6,\n",
       " 'B-sportsteam': 20,\n",
       " 'B-tvshow': 13,\n",
       " 'I-company': 8,\n",
       " 'I-facility': 10,\n",
       " 'I-geo-loc': 5,\n",
       " 'I-movie': 12,\n",
       " 'I-musicartist': 17,\n",
       " 'I-other': 3,\n",
       " 'I-person': 7,\n",
       " 'I-product': 9,\n",
       " 'I-sportsteam': 18,\n",
       " 'I-tvshow': 16,\n",
       " 'O': 0}"
      ]
     },
     "execution_count": 162,
     "metadata": {},
     "output_type": "execute_result"
    }
   ],
   "source": [
    "tag2idx"
   ]
  },
  {
   "cell_type": "code",
   "execution_count": 69,
   "metadata": {},
   "outputs": [],
   "source": [
    "def words2idxs(tokens_list):\n",
    "    lst=[]\n",
    "    for word in tokens_list:\n",
    "        if word in token2idx:\n",
    "            lst.append(token2idx[word])\n",
    "        else:\n",
    "            lst.append(token2idx['<UNK>'])\n",
    "    return lst\n",
    "\n",
    "def tags2idxs(tags_list):\n",
    "    return [tag2idx[tag] for tag in tags_list]\n",
    "\n",
    "\n",
    "def idxs2words(idxs):\n",
    "    return [idx2token[idx] for idx in idxs]\n",
    "\n",
    "def idxs2tags(idxs):\n",
    "    return [idx2tag[idx] for idx in idxs]"
   ]
  },
  {
   "cell_type": "markdown",
   "metadata": {},
   "source": [
    "### Generate batches\n",
    "\n",
    "Neural Networks are usually trained with batches. It means that weight updates of the network are based on several sequences at every single time. The tricky part is that all sequences within a batch need to have the same length. So we will pad them with a special `<PAD>` token. It is also a good practice to provide RNN with sequence lengths, so it can skip computations for padding parts. We provide the batching function *batches_generator* readily available for you to save time. "
   ]
  },
  {
   "cell_type": "code",
   "execution_count": 217,
   "metadata": {},
   "outputs": [],
   "source": [
    "def batches_generator( tokens, tags,\n",
    "                      shuffle=True,batch_size=256, allow_smaller_last_batch=True,mode='train'):\n",
    "    \"\"\"Generates padded batches of tokens and tags.\"\"\"\n",
    "    \n",
    "    if mode=='train':\n",
    "        batch_x=[]\n",
    "        batch_y=[]\n",
    "        batch_seqlen=[]\n",
    "        n_samples = len(tokens)\n",
    "        if shuffle:\n",
    "            order = np.random.permutation(n_samples)\n",
    "        else:\n",
    "            order = np.arange(n_samples)\n",
    "\n",
    "        n_batches = n_samples // batch_size\n",
    "        if allow_smaller_last_batch and n_samples % batch_size:\n",
    "            n_batches += 1\n",
    "\n",
    "        for k in range(n_batches):\n",
    "            batch_start = k * batch_size\n",
    "            batch_end = min((k + 1) * batch_size, n_samples)\n",
    "            current_batch_size = batch_end - batch_start\n",
    "            x_list = []\n",
    "            y_list = []\n",
    "            max_len_token = 0\n",
    "            for idx in order[batch_start: batch_end]:\n",
    "                x_list.append(words2idxs(tokens[idx]))\n",
    "                y_list.append(tags2idxs(tags[idx]))\n",
    "                max_len_token = max(max_len_token, len(tags[idx]))\n",
    "\n",
    "            # Fill in the data into numpy nd-arrays filled with padding indices.\n",
    "            x = np.ones([current_batch_size, max_len_token]) * token2idx['<PAD>']\n",
    "            y = np.zeros([current_batch_size, max_len_token,len(tag2idx)])\n",
    "            lengths = np.zeros(current_batch_size)\n",
    "            for n in range(current_batch_size):\n",
    "                utt_len = len(x_list[n])\n",
    "                x[n, :utt_len] = x_list[n]\n",
    "                lengths[n] = utt_len\n",
    "                y[n,len(y_list[n]):,0]=1\n",
    "                for idx,i in enumerate(y_list[n]):\n",
    "                    y[n,idx,i] = 1\n",
    "            batch_x.append(x),batch_y.append(y),batch_seqlen.append(lengths)\n",
    "        return (batch_x,batch_y,batch_seqlen)\n",
    "    \n",
    "    else:\n",
    "        current_batch_size=len(tokens)\n",
    "        x_list = []\n",
    "        y_list = []\n",
    "        max_len_token = 0\n",
    "        for idx in range(len(tokens)):\n",
    "            x_list.append(words2idxs(tokens[idx]))\n",
    "            y_list.append(tags2idxs(tags[idx]))\n",
    "            max_len_token = max(max_len_token, len(tags[idx]))\n",
    "\n",
    "        # Fill in the data into numpy nd-arrays filled with padding indices.\n",
    "        x = np.ones([current_batch_size, max_len_token]) * token2idx['<PAD>']\n",
    "        y = np.zeros([current_batch_size, max_len_token,len(tag2idx)])\n",
    "        lengths = np.zeros(len(tokens))\n",
    "        for n in range(len(tokens)):\n",
    "            utt_len = len(x_list[n])\n",
    "            x[n, :utt_len] = x_list[n]\n",
    "            lengths[n] = utt_len\n",
    "            y[n,len(y_list[n]):,0]=1\n",
    "            for idx,i in enumerate(y_list[n]):\n",
    "                y[n,idx,i] = 1\n",
    "        return (x,y,lengths)\n",
    "        "
   ]
  },
  {
   "cell_type": "markdown",
   "metadata": {},
   "source": [
    "## Build a recurrent neural network\n",
    "\n",
    "This is the most important part of the assignment. Here we will specify the network architecture based on TensorFlow building blocks. It's fun and easy as a lego constructor! We will create an LSTM network which will produce probability distribution over tags for each token in a sentence. To take into account both right and left contexts of the token, we will use Bi-Directional LSTM (Bi-LSTM). Dense layer will be used on top to perform tag classification.  "
   ]
  },
  {
   "cell_type": "code",
   "execution_count": 274,
   "metadata": {},
   "outputs": [],
   "source": [
    "train_x,train_y,train_seqlen=batches_generator(batch_size=256,tokens=train_tokens,tags=train_tags,shuffle=True,allow_smaller_last_batch=True,mode='train')\n",
    "val_x,val_y,val_seqlen=batches_generator(batch_size=256,tokens=validation_tokens,tags=validation_tags,shuffle=True,allow_smaller_last_batch=True,mode='val')\n",
    "test_x,test_y,test_seqlen=batches_generator(batch_size=256,tokens=test_tokens,tags=test_tags,shuffle=True,allow_smaller_last_batch=True,mode='test')\n"
   ]
  },
  {
   "cell_type": "code",
   "execution_count": 171,
   "metadata": {},
   "outputs": [
    {
     "data": {
      "text/plain": [
       "(256, 32)"
      ]
     },
     "execution_count": 171,
     "metadata": {},
     "output_type": "execute_result"
    }
   ],
   "source": [
    "train_x[0].shape"
   ]
  },
  {
   "cell_type": "code",
   "execution_count": 155,
   "metadata": {},
   "outputs": [
    {
     "ename": "ValueError",
     "evalue": "cannot reshape array of size 8960 into shape (256,37,1)",
     "output_type": "error",
     "traceback": [
      "\u001b[1;31m---------------------------------------------------------------------------\u001b[0m",
      "\u001b[1;31mValueError\u001b[0m                                Traceback (most recent call last)",
      "\u001b[1;32m<ipython-input-155-869fced0979c>\u001b[0m in \u001b[0;36m<module>\u001b[1;34m()\u001b[0m\n\u001b[1;32m----> 1\u001b[1;33m \u001b[0mtrain_y\u001b[0m\u001b[1;33m[\u001b[0m\u001b[1;36m0\u001b[0m\u001b[1;33m]\u001b[0m\u001b[1;33m.\u001b[0m\u001b[0mreshape\u001b[0m\u001b[1;33m(\u001b[0m\u001b[1;36m256\u001b[0m\u001b[1;33m,\u001b[0m\u001b[1;36m37\u001b[0m\u001b[1;33m,\u001b[0m\u001b[1;36m1\u001b[0m\u001b[1;33m)\u001b[0m\u001b[1;33m.\u001b[0m\u001b[0mshape\u001b[0m\u001b[1;33m\u001b[0m\u001b[0m\n\u001b[0m",
      "\u001b[1;31mValueError\u001b[0m: cannot reshape array of size 8960 into shape (256,37,1)"
     ]
    }
   ],
   "source": [
    "train_y[0].reshape(256,37,1).shape"
   ]
  },
  {
   "cell_type": "code",
   "execution_count": 225,
   "metadata": {},
   "outputs": [],
   "source": [
    "import keras\n",
    "from keras.utils import np_utils\n",
    "from keras.models import Sequential\n",
    "from keras.layers import Dense, Dropout,TimeDistributed\n",
    "from keras.layers import Embedding\n",
    "from keras.layers import LSTM"
   ]
  },
  {
   "cell_type": "code",
   "execution_count": 263,
   "metadata": {},
   "outputs": [],
   "source": [
    "from keras import backend as K\n",
    "\n",
    "def f1(y_true, y_pred):\n",
    "    def recall(y_true, y_pred):\n",
    "        \"\"\"Recall metric.\n",
    "\n",
    "        Only computes a batch-wise average of recall.\n",
    "\n",
    "        Computes the recall, a metric for multi-label classification of\n",
    "        how many relevant items are selected.\n",
    "        \"\"\"\n",
    "        true_positives = K.sum(K.round(K.clip(y_true * y_pred, 0, 1)))\n",
    "        possible_positives = K.sum(K.round(K.clip(y_true, 0, 1)))\n",
    "        recall = true_positives / (possible_positives + K.epsilon())\n",
    "        return recall\n",
    "\n",
    "    def precision(y_true, y_pred):\n",
    "        \"\"\"Precision metric.\n",
    "\n",
    "        Only computes a batch-wise average of precision.\n",
    "\n",
    "        Computes the precision, a metric for multi-label classification of\n",
    "        how many selected items are relevant.\n",
    "        \"\"\"\n",
    "        true_positives = K.sum(K.round(K.clip(y_true * y_pred, 0, 1)))\n",
    "        predicted_positives = K.sum(K.round(K.clip(y_pred, 0, 1)))\n",
    "        precision = true_positives / (predicted_positives + K.epsilon())\n",
    "        return precision\n",
    "    precision = precision(y_true, y_pred)\n",
    "    recall = recall(y_true, y_pred)\n",
    "    return (2*((precision*recall)/(precision+recall)))"
   ]
  },
  {
   "cell_type": "code",
   "execution_count": 264,
   "metadata": {},
   "outputs": [
    {
     "name": "stdout",
     "output_type": "stream",
     "text": [
      "_________________________________________________________________\n",
      "Layer (type)                 Output Shape              Param #   \n",
      "=================================================================\n",
      "embedding_31 (Embedding)     (None, None, 512)         10485760  \n",
      "_________________________________________________________________\n",
      "lstm_59 (LSTM)               (None, None, 256)         787456    \n",
      "_________________________________________________________________\n",
      "lstm_60 (LSTM)               (None, None, 64)          82176     \n",
      "_________________________________________________________________\n",
      "dropout_28 (Dropout)         (None, None, 64)          0         \n",
      "_________________________________________________________________\n",
      "time_distributed_15 (TimeDis (None, None, 21)          1365      \n",
      "=================================================================\n",
      "Total params: 11,356,757\n",
      "Trainable params: 11,356,757\n",
      "Non-trainable params: 0\n",
      "_________________________________________________________________\n"
     ]
    }
   ],
   "source": [
    "model = Sequential()\n",
    "model.add(Embedding(input_dim=len(token2idx),output_dim=512,input_length=None))\n",
    "model.add(LSTM(256, return_sequences=True))\n",
    "model.add(LSTM(64,return_sequences=True))\n",
    "model.add(Dropout(0.5))\n",
    "model.add(TimeDistributed(Dense(21,activation='softmax')))\n",
    "model.summary()"
   ]
  },
  {
   "cell_type": "code",
   "execution_count": 265,
   "metadata": {},
   "outputs": [
    {
     "data": {
      "text/plain": [
       "<function __main__.f1>"
      ]
     },
     "execution_count": 265,
     "metadata": {},
     "output_type": "execute_result"
    }
   ],
   "source": [
    "f1"
   ]
  },
  {
   "cell_type": "code",
   "execution_count": 266,
   "metadata": {},
   "outputs": [],
   "source": [
    "model.compile(loss='categorical_crossentropy', optimizer='adam', metrics=[f1])"
   ]
  },
  {
   "cell_type": "code",
   "execution_count": 251,
   "metadata": {},
   "outputs": [
    {
     "name": "stdout",
     "output_type": "stream",
     "text": [
      "Epoch 1/5\n",
      "256/256 [==============================] - 4s 14ms/step - loss: 3.0481 - f1: nan\n",
      "Epoch 2/5\n",
      "256/256 [==============================] - 1s 5ms/step - loss: 2.9412 - f1: nan\n",
      "Epoch 3/5\n",
      "256/256 [==============================] - 1s 5ms/step - loss: 2.8031 - f1: nan\n",
      "Epoch 4/5\n",
      "256/256 [==============================] - 1s 5ms/step - loss: 2.6021 - f1: nan\n",
      "Epoch 5/5\n",
      "256/256 [==============================] - 1s 5ms/step - loss: 2.3055 - f1: 0.0118\n",
      "Epoch 1/5\n",
      "256/256 [==============================] - 1s 5ms/step - loss: 1.9376 - f1: 0.2478\n",
      "Epoch 2/5\n",
      "256/256 [==============================] - 1s 5ms/step - loss: 1.5388 - f1: 0.4819\n",
      "Epoch 3/5\n",
      "256/256 [==============================] - 1s 5ms/step - loss: 1.1392 - f1: 0.6834\n",
      "Epoch 4/5\n",
      "256/256 [==============================] - 1s 5ms/step - loss: 0.8679 - f1: 0.7899\n",
      "Epoch 5/5\n",
      "256/256 [==============================] - 1s 5ms/step - loss: 0.6998 - f1: 0.8442\n",
      "Epoch 1/5\n",
      "256/256 [==============================] - 1s 5ms/step - loss: 0.6505 - f1: 0.8584\n",
      "Epoch 2/5\n",
      "256/256 [==============================] - 1s 5ms/step - loss: 0.5806 - f1: 0.8793\n",
      "Epoch 3/5\n",
      "256/256 [==============================] - 1s 5ms/step - loss: 0.5348 - f1: 0.8915\n",
      "Epoch 4/5\n",
      "256/256 [==============================] - 1s 5ms/step - loss: 0.5090 - f1: 0.9015\n",
      "Epoch 5/5\n",
      "256/256 [==============================] - 1s 5ms/step - loss: 0.4917 - f1: 0.9086\n",
      "Epoch 1/5\n",
      "256/256 [==============================] - 1s 5ms/step - loss: 0.4291 - f1: 0.9236\n",
      "Epoch 2/5\n",
      "256/256 [==============================] - 1s 6ms/step - loss: 0.4193 - f1: 0.9280\n",
      "Epoch 3/5\n",
      "256/256 [==============================] - 2s 6ms/step - loss: 0.4089 - f1: 0.9307\n",
      "Epoch 4/5\n",
      "256/256 [==============================] - 2s 6ms/step - loss: 0.3997 - f1: 0.9349\n",
      "Epoch 5/5\n",
      "256/256 [==============================] - 1s 5ms/step - loss: 0.3881 - f1: 0.9372\n",
      "Epoch 1/5\n",
      "256/256 [==============================] - 1s 5ms/step - loss: 0.4953 - f1: 0.9195\n",
      "Epoch 2/5\n",
      "256/256 [==============================] - 1s 5ms/step - loss: 0.4925 - f1: 0.9213\n",
      "Epoch 3/5\n",
      "256/256 [==============================] - 1s 5ms/step - loss: 0.4731 - f1: 0.9231\n",
      "Epoch 4/5\n",
      "256/256 [==============================] - 1s 5ms/step - loss: 0.4625 - f1: 0.9260\n",
      "Epoch 5/5\n",
      "256/256 [==============================] - 1s 5ms/step - loss: 0.4515 - f1: 0.9271\n",
      "Epoch 1/5\n",
      "256/256 [==============================] - 1s 6ms/step - loss: 0.3992 - f1: 0.9376\n",
      "Epoch 2/5\n",
      "256/256 [==============================] - 1s 6ms/step - loss: 0.3954 - f1: 0.9388\n",
      "Epoch 3/5\n",
      "256/256 [==============================] - 2s 6ms/step - loss: 0.3890 - f1: 0.9407\n",
      "Epoch 4/5\n",
      "256/256 [==============================] - 1s 6ms/step - loss: 0.3785 - f1: 0.9423\n",
      "Epoch 5/5\n",
      "256/256 [==============================] - 1s 5ms/step - loss: 0.3697 - f1: 0.9427\n",
      "Epoch 1/5\n",
      "256/256 [==============================] - 1s 5ms/step - loss: 0.4526 - f1: 0.9292\n",
      "Epoch 2/5\n",
      "256/256 [==============================] - 1s 5ms/step - loss: 0.4519 - f1: 0.9299\n",
      "Epoch 3/5\n",
      "256/256 [==============================] - 1s 5ms/step - loss: 0.4375 - f1: 0.9313\n",
      "Epoch 4/5\n",
      "256/256 [==============================] - 1s 5ms/step - loss: 0.4464 - f1: 0.9305\n",
      "Epoch 5/5\n",
      "256/256 [==============================] - 1s 5ms/step - loss: 0.4408 - f1: 0.9318\n",
      "Epoch 1/5\n",
      "256/256 [==============================] - 1s 5ms/step - loss: 0.3866 - f1: 0.9381\n",
      "Epoch 2/5\n",
      "256/256 [==============================] - 1s 5ms/step - loss: 0.3847 - f1: 0.9387\n",
      "Epoch 3/5\n",
      "256/256 [==============================] - 1s 5ms/step - loss: 0.3820 - f1: 0.9396\n",
      "Epoch 4/5\n",
      "256/256 [==============================] - 1s 5ms/step - loss: 0.3715 - f1: 0.9399\n",
      "Epoch 5/5\n",
      "256/256 [==============================] - 1s 5ms/step - loss: 0.3825 - f1: 0.9402\n",
      "Epoch 1/5\n",
      "256/256 [==============================] - 1s 5ms/step - loss: 0.3783 - f1: 0.9404\n",
      "Epoch 2/5\n",
      "256/256 [==============================] - 1s 5ms/step - loss: 0.3787 - f1: 0.9415\n",
      "Epoch 3/5\n",
      "256/256 [==============================] - 1s 5ms/step - loss: 0.3702 - f1: 0.9424\n",
      "Epoch 4/5\n",
      "256/256 [==============================] - 1s 5ms/step - loss: 0.3718 - f1: 0.9421\n",
      "Epoch 5/5\n",
      "256/256 [==============================] - 1s 5ms/step - loss: 0.3751 - f1: 0.9421\n",
      "Epoch 1/5\n",
      "256/256 [==============================] - 1s 5ms/step - loss: 0.3976 - f1: 0.9368\n",
      "Epoch 2/5\n",
      "256/256 [==============================] - 1s 5ms/step - loss: 0.3980 - f1: 0.9377\n",
      "Epoch 3/5\n",
      "256/256 [==============================] - 1s 5ms/step - loss: 0.3912 - f1: 0.9382\n",
      "Epoch 4/5\n",
      "256/256 [==============================] - 1s 5ms/step - loss: 0.3980 - f1: 0.9378\n",
      "Epoch 5/5\n",
      "256/256 [==============================] - 1s 5ms/step - loss: 0.3992 - f1: 0.9380\n",
      "Epoch 1/5\n",
      "256/256 [==============================] - 1s 5ms/step - loss: 0.3542 - f1: 0.9443\n",
      "Epoch 2/5\n",
      "256/256 [==============================] - 1s 5ms/step - loss: 0.3474 - f1: 0.9447\n",
      "Epoch 3/5\n",
      "256/256 [==============================] - 1s 5ms/step - loss: 0.3336 - f1: 0.9466\n",
      "Epoch 4/5\n",
      "256/256 [==============================] - 1s 5ms/step - loss: 0.3277 - f1: 0.9478\n",
      "Epoch 5/5\n",
      "256/256 [==============================] - 1s 5ms/step - loss: 0.3251 - f1: 0.9479\n",
      "Epoch 1/5\n",
      "256/256 [==============================] - 1s 5ms/step - loss: 0.3860 - f1: 0.9395\n",
      "Epoch 2/5\n",
      "256/256 [==============================] - 1s 5ms/step - loss: 0.3801 - f1: 0.9400\n",
      "Epoch 3/5\n",
      "256/256 [==============================] - 1s 5ms/step - loss: 0.3681 - f1: 0.9406\n",
      "Epoch 4/5\n",
      "256/256 [==============================] - 1s 4ms/step - loss: 0.3724 - f1: 0.9420\n",
      "Epoch 5/5\n",
      "256/256 [==============================] - 1s 4ms/step - loss: 0.3697 - f1: 0.9431\n",
      "Epoch 1/5\n",
      "256/256 [==============================] - 1s 5ms/step - loss: 0.3481 - f1: 0.9447\n",
      "Epoch 2/5\n",
      "256/256 [==============================] - 1s 5ms/step - loss: 0.3394 - f1: 0.9456\n",
      "Epoch 3/5\n",
      "256/256 [==============================] - 1s 5ms/step - loss: 0.3356 - f1: 0.9469\n",
      "Epoch 4/5\n",
      "256/256 [==============================] - 1s 5ms/step - loss: 0.3295 - f1: 0.9472\n",
      "Epoch 5/5\n",
      "256/256 [==============================] - 1s 5ms/step - loss: 0.3266 - f1: 0.9481\n",
      "Epoch 1/5\n",
      "256/256 [==============================] - 1s 5ms/step - loss: 0.2960 - f1: 0.9520\n",
      "Epoch 2/5\n",
      "256/256 [==============================] - 1s 5ms/step - loss: 0.3003 - f1: 0.9529\n",
      "Epoch 3/5\n",
      "256/256 [==============================] - 1s 5ms/step - loss: 0.2903 - f1: 0.9542\n",
      "Epoch 4/5\n",
      "256/256 [==============================] - 1s 5ms/step - loss: 0.2924 - f1: 0.9547\n",
      "Epoch 5/5\n",
      "256/256 [==============================] - 1s 5ms/step - loss: 0.2878 - f1: 0.9560\n",
      "Epoch 1/5\n",
      "256/256 [==============================] - 2s 6ms/step - loss: 0.3065 - f1: 0.9535\n",
      "Epoch 2/5\n",
      "256/256 [==============================] - 1s 6ms/step - loss: 0.2980 - f1: 0.9546\n",
      "Epoch 3/5\n",
      "256/256 [==============================] - 1s 6ms/step - loss: 0.3021 - f1: 0.9551\n",
      "Epoch 4/5\n",
      "256/256 [==============================] - 1s 6ms/step - loss: 0.3016 - f1: 0.9556\n",
      "Epoch 5/5\n",
      "256/256 [==============================] - 1s 5ms/step - loss: 0.2928 - f1: 0.9562\n",
      "Epoch 1/5\n",
      "256/256 [==============================] - 1s 5ms/step - loss: 0.2734 - f1: 0.9591\n",
      "Epoch 2/5\n",
      "256/256 [==============================] - 1s 5ms/step - loss: 0.2672 - f1: 0.9602\n",
      "Epoch 3/5\n",
      "256/256 [==============================] - 1s 5ms/step - loss: 0.2671 - f1: 0.9605\n",
      "Epoch 4/5\n",
      "256/256 [==============================] - 1s 4ms/step - loss: 0.2685 - f1: 0.9615\n",
      "Epoch 5/5\n",
      "256/256 [==============================] - 1s 5ms/step - loss: 0.2610 - f1: 0.9622\n",
      "Epoch 1/5\n",
      "256/256 [==============================] - 1s 5ms/step - loss: 0.2985 - f1: 0.9562\n",
      "Epoch 2/5\n",
      "256/256 [==============================] - 1s 5ms/step - loss: 0.2919 - f1: 0.9571\n",
      "Epoch 3/5\n",
      "256/256 [==============================] - 1s 5ms/step - loss: 0.2896 - f1: 0.9580\n",
      "Epoch 4/5\n",
      "256/256 [==============================] - 1s 5ms/step - loss: 0.2860 - f1: 0.9586\n",
      "Epoch 5/5\n",
      "256/256 [==============================] - 1s 5ms/step - loss: 0.2875 - f1: 0.9590\n",
      "Epoch 1/5\n",
      "256/256 [==============================] - 1s 5ms/step - loss: 0.3826 - f1: 0.9436\n",
      "Epoch 2/5\n",
      "256/256 [==============================] - 1s 5ms/step - loss: 0.3728 - f1: 0.9450\n",
      "Epoch 3/5\n",
      "256/256 [==============================] - 1s 5ms/step - loss: 0.3673 - f1: 0.9455\n",
      "Epoch 4/5\n"
     ]
    },
    {
     "name": "stdout",
     "output_type": "stream",
     "text": [
      "256/256 [==============================] - 1s 4ms/step - loss: 0.3622 - f1: 0.9462\n",
      "Epoch 5/5\n",
      "256/256 [==============================] - 1s 5ms/step - loss: 0.3664 - f1: 0.9468\n",
      "Epoch 1/5\n",
      "256/256 [==============================] - 1s 5ms/step - loss: 0.2982 - f1: 0.9577\n",
      "Epoch 2/5\n",
      "256/256 [==============================] - 1s 5ms/step - loss: 0.2907 - f1: 0.9592\n",
      "Epoch 3/5\n",
      "256/256 [==============================] - 1s 5ms/step - loss: 0.2987 - f1: 0.9575\n",
      "Epoch 4/5\n",
      "256/256 [==============================] - 1s 5ms/step - loss: 0.2993 - f1: 0.9585\n",
      "Epoch 5/5\n",
      "256/256 [==============================] - 1s 5ms/step - loss: 0.2904 - f1: 0.9591\n",
      "Epoch 1/5\n",
      "256/256 [==============================] - 1s 5ms/step - loss: 0.3679 - f1: 0.9446\n",
      "Epoch 2/5\n",
      "256/256 [==============================] - 1s 5ms/step - loss: 0.3685 - f1: 0.9453\n",
      "Epoch 3/5\n",
      "256/256 [==============================] - 1s 5ms/step - loss: 0.3657 - f1: 0.9460\n",
      "Epoch 4/5\n",
      "256/256 [==============================] - 1s 5ms/step - loss: 0.3602 - f1: 0.9471\n",
      "Epoch 5/5\n",
      "256/256 [==============================] - 1s 5ms/step - loss: 0.3562 - f1: 0.9472\n",
      "Epoch 1/5\n",
      "256/256 [==============================] - 1s 5ms/step - loss: 0.3233 - f1: 0.9533\n",
      "Epoch 2/5\n",
      "256/256 [==============================] - 1s 5ms/step - loss: 0.3212 - f1: 0.9541\n",
      "Epoch 3/5\n",
      "256/256 [==============================] - 1s 5ms/step - loss: 0.3155 - f1: 0.9545\n",
      "Epoch 4/5\n",
      "256/256 [==============================] - 1s 5ms/step - loss: 0.3201 - f1: 0.9549\n",
      "Epoch 5/5\n",
      "256/256 [==============================] - 1s 5ms/step - loss: 0.3161 - f1: 0.9556\n",
      "Epoch 1/5\n",
      "256/256 [==============================] - 1s 5ms/step - loss: 0.3185 - f1: 0.9552\n",
      "Epoch 2/5\n",
      "256/256 [==============================] - 1s 5ms/step - loss: 0.3126 - f1: 0.9561\n",
      "Epoch 3/5\n",
      "256/256 [==============================] - 1s 5ms/step - loss: 0.3055 - f1: 0.9567\n",
      "Epoch 4/5\n",
      "256/256 [==============================] - 1s 5ms/step - loss: 0.3059 - f1: 0.9564\n",
      "Epoch 5/5\n",
      "256/256 [==============================] - 1s 5ms/step - loss: 0.3077 - f1: 0.9567\n",
      "Epoch 1/5\n",
      "163/163 [==============================] - 1s 5ms/step - loss: 0.3186 - f1: 0.9545\n",
      "Epoch 2/5\n",
      "163/163 [==============================] - 1s 5ms/step - loss: 0.3276 - f1: 0.9548\n",
      "Epoch 3/5\n",
      "163/163 [==============================] - 1s 5ms/step - loss: 0.3127 - f1: 0.9554\n",
      "Epoch 4/5\n",
      "163/163 [==============================] - 1s 5ms/step - loss: 0.3083 - f1: 0.9556\n",
      "Epoch 5/5\n",
      "163/163 [==============================] - 1s 5ms/step - loss: 0.3106 - f1: 0.9561\n"
     ]
    }
   ],
   "source": [
    "for i in range(len(train_seqlen)):\n",
    "    model.fit(train_x[i],train_y[i],epochs=5, batch_size=256)"
   ]
  },
  {
   "cell_type": "code",
   "execution_count": 252,
   "metadata": {},
   "outputs": [
    {
     "name": "stdout",
     "output_type": "stream",
     "text": [
      "724/724 [==============================] - ETA:  - ETA:  - 2s 3ms/step\n"
     ]
    },
    {
     "data": {
      "text/plain": [
       "[0.26626104873846906, 0.9592325996957431]"
      ]
     },
     "execution_count": 252,
     "metadata": {},
     "output_type": "execute_result"
    }
   ],
   "source": [
    " model.evaluate(x=val_x,y=val_y,batch_size=256)"
   ]
  },
  {
   "cell_type": "code",
   "execution_count": 285,
   "metadata": {},
   "outputs": [],
   "source": [
    "for i in range(len(train_seqlen)):\n",
    "    model.predict(train_x[i])"
   ]
  },
  {
   "cell_type": "code",
   "execution_count": 253,
   "metadata": {},
   "outputs": [
    {
     "name": "stdout",
     "output_type": "stream",
     "text": [
      "724/724 [==============================] - ETA:  - ETA:  - 1s 1ms/step\n"
     ]
    },
    {
     "data": {
      "text/plain": [
       "[0.31366151060847286, 0.952246492080267]"
      ]
     },
     "execution_count": 253,
     "metadata": {},
     "output_type": "execute_result"
    }
   ],
   "source": [
    " model.evaluate(x=test_x,y=test_y,batch_size=256)"
   ]
  },
  {
   "cell_type": "code",
   "execution_count": 295,
   "metadata": {},
   "outputs": [
    {
     "data": {
      "text/plain": [
       "['O', 'O', 'O', 'O', 'O', 'O', 'O', 'O', 'O', 'O']"
      ]
     },
     "execution_count": 295,
     "metadata": {},
     "output_type": "execute_result"
    }
   ],
   "source": [
    "validation_tags[5]"
   ]
  },
  {
   "cell_type": "code",
   "execution_count": 204,
   "metadata": {},
   "outputs": [
    {
     "name": "stdout",
     "output_type": "stream",
     "text": [
      "256/256 [==============================] - ETA:  - ETA:  - ETA:  - ETA:  - ETA:  - ETA:  - ETA:  - 1s 2ms/step\n",
      "[0.23843340389430523, 0.9637880176305771]\n"
     ]
    }
   ],
   "source": [
    "model.evaluate(x=val_x[0],y=val_y[0]))"
   ]
  },
  {
   "cell_type": "code",
   "execution_count": 107,
   "metadata": {},
   "outputs": [],
   "source": [
    "import tensorflow as tf\n",
    "import numpy as np"
   ]
  },
  {
   "cell_type": "code",
   "execution_count": 108,
   "metadata": {},
   "outputs": [],
   "source": [
    "class BiLSTMModel():\n",
    "    pass"
   ]
  },
  {
   "cell_type": "markdown",
   "metadata": {
    "collapsed": true
   },
   "source": [
    "First, we need to create [placeholders](https://www.tensorflow.org/versions/r0.12/api_docs/python/io_ops/placeholders) to specify what data we are going to feed into the network during the execution time.  For this task we will need the following placeholders:\n",
    " - *input_batch* — sequences of words (the shape equals to [batch_size, sequence_len]);\n",
    " - *ground_truth_tags* — sequences of tags (the shape equals to [batch_size, sequence_len]);\n",
    " - *lengths* — lengths of not padded sequences (the shape equals to [batch_size]);\n",
    " - *dropout_ph* — dropout keep probability; this placeholder has a predefined value 1;\n",
    " - *learning_rate_ph* — learning rate; we need this placeholder because we want to change the value during training.\n",
    "\n",
    "It could be noticed that we use *None* in the shapes in the declaration, which means that data of any size can be feeded. \n",
    "\n",
    "You need to complete the function *declare_placeholders*."
   ]
  },
  {
   "cell_type": "code",
   "execution_count": 109,
   "metadata": {},
   "outputs": [],
   "source": [
    "def declare_placeholders(self):\n",
    "    \"\"\"Specifies placeholders for the model.\"\"\"\n",
    "\n",
    "    # Placeholders for input and ground truth output.\n",
    "    self.input_batch = tf.placeholder(dtype=tf.int32, shape=[None, None], name='input_batch') \n",
    "    self.ground_truth_tags = tf.placeholder(dtype=tf.int32, shape=[None, None], name='ground_truth_tags') \n",
    "  \n",
    "    # Placeholder for lengths of the sequences.\n",
    "    self.lengths = tf.placeholder(dtype=tf.int32, shape=[None], name='lengths') \n",
    "    \n",
    "    # Placeholder for a dropout keep probability. If we don't feed\n",
    "    # a value for this placeholder, it will be equal to 1.0.\n",
    "    self.dropout_ph = tf.placeholder_with_default(tf.cast(1.0, tf.float32), shape=[])\n",
    "    \n",
    "    # Placeholder for a learning rate (float32).\n",
    "    self.learning_rate_ph = tf.placeholder(tf.float32, shape=[])"
   ]
  },
  {
   "cell_type": "code",
   "execution_count": 110,
   "metadata": {},
   "outputs": [],
   "source": [
    "BiLSTMModel.__declare_placeholders = classmethod(declare_placeholders)"
   ]
  },
  {
   "cell_type": "markdown",
   "metadata": {
    "collapsed": true
   },
   "source": [
    "Now, let us specify the layers of the neural network. First, we need to perform some preparatory steps: \n",
    " \n",
    "- Create embeddings matrix with [tf.Variable](https://www.tensorflow.org/api_docs/python/tf/Variable). Specify its name (*embeddings_matrix*), type  (*tf.float32*), and initialize with random values.\n",
    "- Create forward and backward LSTM cells. TensorFlow provides a number of [RNN cells](https://www.tensorflow.org/api_guides/python/contrib.rnn#Core_RNN_Cells_for_use_with_TensorFlow_s_core_RNN_methods) ready for you. We suggest that you use *BasicLSTMCell*, but you can also experiment with other types, e.g. GRU cells. [This](http://colah.github.io/posts/2015-08-Understanding-LSTMs/) blogpost could be interesting if you want to learn more about the differences.\n",
    "- Wrap your cells with [DropoutWrapper](https://www.tensorflow.org/api_docs/python/tf/contrib/rnn/DropoutWrapper). Dropout is an important regularization technique for neural networks. Specify all keep probabilities using the dropout placeholder that we created before.\n",
    " \n",
    "After that, you can build the computation graph that transforms an input_batch:\n",
    "\n",
    "- [Look up](https://www.tensorflow.org/api_docs/python/tf/nn/embedding_lookup) embeddings for an *input_batch* in the prepared *embedding_matrix*.\n",
    "- Pass the embeddings through [Bidirectional Dynamic RNN](https://www.tensorflow.org/api_docs/python/tf/nn/bidirectional_dynamic_rnn) with the specified forward and backward cells. Use the lengths placeholder here to avoid computations for padding tokens inside the RNN.\n",
    "- Create a dense layer on top. Its output will be used directly in loss function.  \n",
    " \n",
    "Fill in the code below. In case you need to debug something, the easiest way is to check that tensor shapes of each step match the expected ones. \n",
    " "
   ]
  },
  {
   "cell_type": "code",
   "execution_count": 111,
   "metadata": {},
   "outputs": [],
   "source": [
    "def build_layers(self, vocabulary_size, embedding_dim, n_hidden_rnn, n_tags):\n",
    "    \"\"\"Specifies bi-LSTM architecture and computes logits for inputs.\"\"\"\n",
    "    \n",
    "    # Create embedding variable (tf.Variable).\n",
    "    initial_embedding_matrix =   tf.random_normal((vocabulary_size, embedding_dim),dtype=tf.float32)/\\\n",
    "                                                                    tf.sqrt(tf.cast(embedding_dim,dtype=tf.float32))\n",
    "    embedding_matrix_variable = tf.get_variable('embedding_matrix',dtype=tf.float32,initializer=initial_embedding_matrix)\n",
    "        ######### YOUR CODE HERE #############\n",
    "    \n",
    "    # Create RNN cells (for example, tf.nn.rnn_cell.BasicLSTMCell) with n_hidden_rnn number of units \n",
    "    # and dropout (tf.nn.rnn_cell.DropoutWrapper), initializing all *_keep_prob with dropout placeholder.\n",
    "    forward_cell = tf.nn.rnn_cell.BasicLSTMCell(n_hidden_rnn)\n",
    "    forward_cell = tf.nn.rnn_cell.DropoutWrapper(forward_cell,        \n",
    "                                                 input_keep_prob=self.dropout_ph,\n",
    "                                                output_keep_prob=self.dropout_ph,\n",
    "                                                state_keep_prob=self.dropout_ph) ######### YOUR CODE HERE #############\n",
    "    backward_cell = tf.nn.rnn_cell.BasicLSTMCell(n_hidden_rnn)\n",
    "    backward_cell = tf.nn.rnn_cell.DropoutWrapper(backward_cell,\n",
    "                                                input_keep_prob=self.dropout_ph,\n",
    "                                                output_keep_prob=self.dropout_ph,\n",
    "                                                state_keep_prob=self.dropout_ph) ######### YOUR CODE HERE #############\n",
    "\n",
    "    # Look up embeddings for self.input_batch (tf.nn.embedding_lookup).\n",
    "    # Shape: [batch_size, sequence_len, embedding_dim].\n",
    "    embeddings = tf.nn.embedding_lookup(embedding_matrix_variable,self.input_batch) ######### YOUR CODE HERE #############\n",
    "    \n",
    "    # Pass them through Bidirectional Dynamic RNN (tf.nn.bidirectional_dynamic_rnn).\n",
    "    # Shape: [batch_size, sequence_len, 2 * n_hidden_rnn]. \n",
    "    (rnn_output_fw, rnn_output_bw), _ =  tf.nn.bidirectional_dynamic_rnn(cell_fw=forward_cell,cell_bw=backward_cell,inputs=embeddings\\\n",
    "                                                                         ,dtype=tf.float32,sequence_length=self.lengths)\n",
    "######### YOUR CODE HERE #############\n",
    "    rnn_output = tf.concat([rnn_output_fw, rnn_output_bw], axis=2)\n",
    "\n",
    "    # Dense layer on top.\n",
    "    # Shape: [batch_size, sequence_len, n_tags].   \n",
    "    self.logits = tf.layers.dense(rnn_output, n_tags, activation=None)"
   ]
  },
  {
   "cell_type": "code",
   "execution_count": 112,
   "metadata": {},
   "outputs": [],
   "source": [
    "BiLSTMModel.__build_layers = classmethod(build_layers)"
   ]
  },
  {
   "cell_type": "markdown",
   "metadata": {},
   "source": [
    "To compute the actual predictions of the neural network, you need to apply [softmax](https://www.tensorflow.org/api_docs/python/tf/nn/softmax) to the last layer and find the most probable tags with [argmax](https://www.tensorflow.org/api_docs/python/tf/argmax)."
   ]
  },
  {
   "cell_type": "code",
   "execution_count": 113,
   "metadata": {},
   "outputs": [],
   "source": [
    "def compute_predictions(self):\n",
    "    \"\"\"Transforms logits to probabilities and finds the most probable tags.\"\"\"\n",
    "    \n",
    "    # Create softmax (tf.nn.softmax) function\n",
    "    softmax_output =tf.nn.softmax(self.logits,axis=-1) ######### YOUR CODE HERE #############\n",
    "    \n",
    "    # Use argmax (tf.argmax) to get the most probable tags\n",
    "    self.predictions = tf.argmax(softmax_output,axis=-1)######### YOUR CODE HERE #############"
   ]
  },
  {
   "cell_type": "code",
   "execution_count": 114,
   "metadata": {},
   "outputs": [],
   "source": [
    "BiLSTMModel.__compute_predictions = classmethod(compute_predictions)"
   ]
  },
  {
   "cell_type": "markdown",
   "metadata": {
    "collapsed": true
   },
   "source": [
    "During training we do not need predictions of the network, but we need a loss function. We will use [cross-entropy loss](http://ml-cheatsheet.readthedocs.io/en/latest/loss_functions.html#cross-entropy), efficiently implemented in TF as \n",
    "[cross entropy with logits](https://www.tensorflow.org/api_docs/python/tf/nn/softmax_cross_entropy_with_logits). Note that it should be applied to logits of the model (not to softmax probabilities!). Also note,  that we do not want to take into account loss terms coming from `<PAD>` tokens. So we need to mask them out, before computing [mean](https://www.tensorflow.org/api_docs/python/tf/reduce_mean)."
   ]
  },
  {
   "cell_type": "code",
   "execution_count": 115,
   "metadata": {},
   "outputs": [],
   "source": [
    "def compute_loss(self, n_tags, PAD_index):\n",
    "    \"\"\"Computes masked cross-entopy loss with logits.\"\"\"\n",
    "    \n",
    "    # Create cross entropy function function (tf.nn.softmax_cross_entropy_with_logits)\n",
    "    ground_truth_tags_one_hot = tf.one_hot(self.ground_truth_tags, n_tags)\n",
    "    loss_tensor =tf.nn.softmax_cross_entropy_with_logits(logits=self.logits,labels=ground_truth_tags_one_hot)  ######### YOUR CODE HERE #############\n",
    "    \n",
    "    # Create loss function which doesn't operate with <PAD> tokens (tf.reduce_mean)\n",
    "    mask = tf.cast(tf.not_equal(loss_tensor, PAD_index), tf.float32)\n",
    "    self.loss =  tf.reduce_mean(tf.multiply(loss_tensor, mask)) \n",
    "    #tf.reduce_mean(tf.reduce_sum(tf.multiply(loss_tensor, mask), axis=-1) / tf.reduce_sum(mask, axis=-1))"
   ]
  },
  {
   "cell_type": "code",
   "execution_count": 116,
   "metadata": {},
   "outputs": [],
   "source": [
    "BiLSTMModel.__compute_loss = classmethod(compute_loss)"
   ]
  },
  {
   "cell_type": "markdown",
   "metadata": {},
   "source": [
    "The last thing to specify is how we want to optimize the loss. \n",
    "We suggest that you use [Adam](https://www.tensorflow.org/api_docs/python/tf/train/AdamOptimizer) optimizer with a learning rate from the corresponding placeholder. \n",
    "You will also need to apply [clipping](https://www.tensorflow.org/versions/r0.12/api_docs/python/train/gradient_clipping) to eliminate exploding gradients. It can be easily done with [clip_by_norm](https://www.tensorflow.org/api_docs/python/tf/clip_by_norm) function. "
   ]
  },
  {
   "cell_type": "code",
   "execution_count": 117,
   "metadata": {},
   "outputs": [],
   "source": [
    "def perform_optimization(self):\n",
    "    \"\"\"Specifies the optimizer and train_op for the model.\"\"\"\n",
    "    \n",
    "    # Create an optimizer (tf.train.AdamOptimizer)\n",
    "    self.optimizer = tf.train.AdamOptimizer(self.learning_rate_ph) ######### YOUR CODE HERE #############\n",
    "    self.grads_and_vars = self.optimizer.compute_gradients(self.loss)\n",
    "    \n",
    "    # Gradient clipping (tf.clip_by_norm) for self.grads_and_vars\n",
    "    clip_norm = 1.0\n",
    "    self.grads_and_vars = [ (tf.clip_by_norm(grad, clip_norm), var) for grad, var in self.grads_and_vars] ######### YOUR CODE HERE #############\n",
    "    \n",
    "    self.train_op = self.optimizer.apply_gradients(self.grads_and_vars)"
   ]
  },
  {
   "cell_type": "code",
   "execution_count": 118,
   "metadata": {},
   "outputs": [],
   "source": [
    "BiLSTMModel.__perform_optimization = classmethod(perform_optimization)"
   ]
  },
  {
   "cell_type": "markdown",
   "metadata": {
    "collapsed": true
   },
   "source": [
    "Congratulations! You have specified all the parts of your network. You may have noticed, that we didn't deal with any real data yet, so what you have written is just recipes on how the network should function.\n",
    "Now we will put them to the constructor of our Bi-LSTM class to use it in the next section. "
   ]
  },
  {
   "cell_type": "code",
   "execution_count": 119,
   "metadata": {},
   "outputs": [],
   "source": [
    "def init_model(self, vocabulary_size, n_tags, embedding_dim, n_hidden_rnn, PAD_index):\n",
    "    self.__declare_placeholders()\n",
    "    self.__build_layers(vocabulary_size, embedding_dim, n_hidden_rnn, n_tags)\n",
    "    self.__compute_predictions()\n",
    "    self.__compute_loss(n_tags, PAD_index)\n",
    "    self.__perform_optimization()"
   ]
  },
  {
   "cell_type": "code",
   "execution_count": 120,
   "metadata": {},
   "outputs": [],
   "source": [
    "BiLSTMModel.__init__ = classmethod(init_model)"
   ]
  },
  {
   "cell_type": "markdown",
   "metadata": {},
   "source": [
    "## Train the network and predict tags"
   ]
  },
  {
   "cell_type": "markdown",
   "metadata": {
    "collapsed": true
   },
   "source": [
    "[Session.run](https://www.tensorflow.org/api_docs/python/tf/Session#run) is a point which initiates computations in the graph that we have defined. To train the network, we need to compute *self.train_op*, which was declared in *perform_optimization*. To predict tags, we just need to compute *self.predictions*. Anyway, we need to feed actual data through the placeholders that we defined before. "
   ]
  },
  {
   "cell_type": "code",
   "execution_count": 121,
   "metadata": {},
   "outputs": [],
   "source": [
    "def train_on_batch(self, session, x_batch, y_batch, lengths, learning_rate, dropout_keep_probability):\n",
    "    feed_dict = {self.input_batch: x_batch,\n",
    "                 self.ground_truth_tags: y_batch,\n",
    "                 self.learning_rate_ph: learning_rate,\n",
    "                 self.dropout_ph: dropout_keep_probability,\n",
    "                 self.lengths: lengths}\n",
    "    \n",
    "    session.run(self.train_op, feed_dict=feed_dict)"
   ]
  },
  {
   "cell_type": "code",
   "execution_count": 122,
   "metadata": {},
   "outputs": [],
   "source": [
    "BiLSTMModel.train_on_batch = classmethod(train_on_batch)"
   ]
  },
  {
   "cell_type": "markdown",
   "metadata": {},
   "source": [
    "Implement the function *predict_for_batch* by initializing *feed_dict* with input *x_batch* and *lengths* and running the *session* for *self.predictions*."
   ]
  },
  {
   "cell_type": "code",
   "execution_count": 123,
   "metadata": {},
   "outputs": [],
   "source": [
    "def predict_for_batch(self, session, x_batch, lengths):\n",
    "    ######################################\n",
    "    ######### YOUR CODE HERE #############\n",
    "    ######################################\n",
    "    predictions=session.run(self.predictions,feed_dict={self.input_batch:x_batch, self.lengths:lengths})\n",
    "    return predictions"
   ]
  },
  {
   "cell_type": "code",
   "execution_count": 124,
   "metadata": {},
   "outputs": [],
   "source": [
    "BiLSTMModel.predict_for_batch = classmethod(predict_for_batch)"
   ]
  },
  {
   "cell_type": "markdown",
   "metadata": {},
   "source": [
    "We finished with necessary methods of our BiLSTMModel model and almost ready to start experimenting.\n",
    "\n",
    "### Evaluation \n",
    "To simplify the evaluation process we provide two functions for you:\n",
    " - *predict_tags*: uses a model to get predictions and transforms indices to tokens and tags;\n",
    " - *eval_conll*: calculates precision, recall and F1 for the results."
   ]
  },
  {
   "cell_type": "code",
   "execution_count": 125,
   "metadata": {},
   "outputs": [],
   "source": [
    "from evaluation import precision_recall_f1"
   ]
  },
  {
   "cell_type": "code",
   "execution_count": 126,
   "metadata": {},
   "outputs": [],
   "source": [
    "def predict_tags(model, session, token_idxs_batch, lengths):\n",
    "    \"\"\"Performs predictions and transforms indices to tokens and tags.\"\"\"\n",
    "    \n",
    "    tag_idxs_batch = model.predict_for_batch(session, token_idxs_batch, lengths)\n",
    "    \n",
    "    tags_batch, tokens_batch = [], []\n",
    "    for tag_idxs, token_idxs in zip(tag_idxs_batch, token_idxs_batch):\n",
    "        tags, tokens = [], []\n",
    "        for tag_idx, token_idx in zip(tag_idxs, token_idxs):\n",
    "            if token_idx != token2idx['<PAD>']:\n",
    "                tags.append(idx2tag[tag_idx])\n",
    "                tokens.append(idx2token[token_idx])\n",
    "        tags_batch.append(tags)\n",
    "        tokens_batch.append(tokens)\n",
    "    return tags_batch, tokens_batch\n",
    "    \n",
    "    \n",
    "def eval_conll(model, session, tokens, tags, short_report=True):\n",
    "    \"\"\"Computes NER quality measures using CONLL shared task script.\"\"\"\n",
    "    \n",
    "    y_true, y_pred = [], []\n",
    "    for x_batch, y_batch, lengths in batches_generator(1, tokens, tags):\n",
    "        tags_batch, tokens_batch = predict_tags(model, session, x_batch, lengths)\n",
    "        if len(x_batch[0]) != len(tags_batch[0]):\n",
    "            raise Exception(\"Incorrect length of prediction for the input, \"\n",
    "                            \"expected length: %i, got: %i\" % (len(x_batch[0]), len(tags_batch[0])))\n",
    "        ground_truth_tags = [idx2tag[tag_idx] for tag_idx in y_batch[0]]\n",
    "\n",
    "        # We extend every prediction and ground truth sequence with 'O' tag\n",
    "        # to indicate a possible end of entity.\n",
    "        y_true.extend(ground_truth_tags + ['O'])\n",
    "        y_pred.extend(tags_batch[0] + ['O'])\n",
    "        \n",
    "    results = precision_recall_f1(y_true, y_pred, print_results=True, short_report=short_report)\n",
    "    return results"
   ]
  },
  {
   "cell_type": "markdown",
   "metadata": {},
   "source": [
    "## Run your experiment"
   ]
  },
  {
   "cell_type": "markdown",
   "metadata": {},
   "source": [
    "Create *BiLSTMModel* model with the following parameters:\n",
    " - *vocabulary_size* — number of tokens;\n",
    " - *n_tags* — number of tags;\n",
    " - *embedding_dim* — dimension of embeddings, recommended value: 200;\n",
    " - *n_hidden_rnn* — size of hidden layers for RNN, recommended value: 200;\n",
    " - *PAD_index* — an index of the padding token (`<PAD>`).\n",
    "\n",
    "Set hyperparameters. You might want to start with the following recommended values:\n",
    "- *batch_size*: 32;\n",
    "- 4 epochs;\n",
    "- starting value of *learning_rate*: 0.005\n",
    "- *learning_rate_decay*: a square root of 2;\n",
    "- *dropout_keep_probability*: try several values: 0.1, 0.5, 0.9.\n",
    "\n",
    "However, feel free to conduct more experiments to tune hyperparameters and earn extra points for the assignment."
   ]
  },
  {
   "cell_type": "code",
   "execution_count": 127,
   "metadata": {
    "scrolled": true
   },
   "outputs": [],
   "source": [
    "tf.reset_default_graph()\n",
    "\n",
    "model =BiLSTMModel(vocabulary_size=len(token2idx), n_tags=len(tag2idx), embedding_dim=200, n_hidden_rnn=200, PAD_index=token2idx['<PAD>']) ######### YOUR CODE HERE #############\n",
    "\n"
   ]
  },
  {
   "cell_type": "markdown",
   "metadata": {},
   "source": [
    "Finally, we are ready to run the training!"
   ]
  },
  {
   "cell_type": "code",
   "execution_count": 128,
   "metadata": {},
   "outputs": [],
   "source": [
    "batch_size = 32######### YOUR CODE HERE #############\n",
    "n_epochs = 4######### YOUR CODE HERE #############\n",
    "learning_rate =0.005 ######### YOUR CODE HERE #############\n",
    "learning_rate_decay =2 ######### YOUR CODE HERE #############\n",
    "dropout_keep_probability =0.5 ######### YOUR CODE HERE #############"
   ]
  },
  {
   "cell_type": "code",
   "execution_count": 129,
   "metadata": {},
   "outputs": [
    {
     "name": "stdout",
     "output_type": "stream",
     "text": [
      "Start training... \n",
      "\n",
      "-------------------- Epoch 1 of 4 --------------------\n",
      "Train data evaluation:\n",
      "processed 105778 tokens with 4489 phrases; found: 74604 phrases; correct: 172.\n",
      "\n",
      "precision:  0.23%; recall:  3.83%; F1:  0.43\n",
      "\n",
      "Validation data evaluation:\n",
      "processed 12836 tokens with 537 phrases; found: 9054 phrases; correct: 20.\n",
      "\n",
      "precision:  0.22%; recall:  3.72%; F1:  0.42\n",
      "\n",
      "-------------------- Epoch 2 of 4 --------------------\n",
      "Train data evaluation:\n",
      "processed 105778 tokens with 4489 phrases; found: 1737 phrases; correct: 356.\n",
      "\n",
      "precision:  20.50%; recall:  7.93%; F1:  11.44\n",
      "\n",
      "Validation data evaluation:\n",
      "processed 12836 tokens with 537 phrases; found: 153 phrases; correct: 34.\n",
      "\n",
      "precision:  22.22%; recall:  6.33%; F1:  9.86\n",
      "\n",
      "-------------------- Epoch 3 of 4 --------------------\n",
      "Train data evaluation:\n",
      "processed 105778 tokens with 4489 phrases; found: 4546 phrases; correct: 1469.\n",
      "\n",
      "precision:  32.31%; recall:  32.72%; F1:  32.52\n",
      "\n",
      "Validation data evaluation:\n",
      "processed 12836 tokens with 537 phrases; found: 319 phrases; correct: 97.\n",
      "\n",
      "precision:  30.41%; recall:  18.06%; F1:  22.66\n",
      "\n",
      "-------------------- Epoch 4 of 4 --------------------\n",
      "Train data evaluation:\n",
      "processed 105778 tokens with 4489 phrases; found: 4558 phrases; correct: 2156.\n",
      "\n",
      "precision:  47.30%; recall:  48.03%; F1:  47.66\n",
      "\n",
      "Validation data evaluation:\n",
      "processed 12836 tokens with 537 phrases; found: 333 phrases; correct: 130.\n",
      "\n",
      "precision:  39.04%; recall:  24.21%; F1:  29.89\n",
      "\n",
      "...training finished.\n"
     ]
    }
   ],
   "source": [
    "sess = tf.Session()\n",
    "sess.run(tf.global_variables_initializer())\n",
    "\n",
    "print('Start training... \\n')\n",
    "for epoch in range(n_epochs):\n",
    "    # For each epoch evaluate the model on train and validation data\n",
    "    print('-' * 20 + ' Epoch {} '.format(epoch+1) + 'of {} '.format(n_epochs) + '-' * 20)\n",
    "    print('Train data evaluation:')\n",
    "    eval_conll(model, sess, train_tokens, train_tags, short_report=True)\n",
    "    print('Validation data evaluation:')\n",
    "    eval_conll(model, sess, validation_tokens, validation_tags, short_report=True)\n",
    "    \n",
    "    # Train the model\n",
    "    for x_batch, y_batch, lengths in batches_generator(batch_size, train_tokens, train_tags):\n",
    "        model.train_on_batch(sess, x_batch, y_batch, lengths, learning_rate, dropout_keep_probability)\n",
    "        \n",
    "    # Decaying the learning rate\n",
    "    learning_rate = learning_rate / learning_rate_decay\n",
    "    \n",
    "print('...training finished.')"
   ]
  },
  {
   "cell_type": "markdown",
   "metadata": {},
   "source": [
    "Now let us see full quality reports for the final model on train, validation, and test sets. To give you a hint whether you have implemented everything correctly, you might expect F-score about 40% on the validation set.\n",
    "\n",
    "**The output of the cell below (as well as the output of all the other cells) should be present in the notebook for peer2peer review!**"
   ]
  },
  {
   "cell_type": "code",
   "execution_count": 144,
   "metadata": {},
   "outputs": [
    {
     "name": "stdout",
     "output_type": "stream",
     "text": [
      "-------------------- Train set quality: --------------------\n",
      "processed 105778 tokens with 4489 phrases; found: 4746 phrases; correct: 2560.\n",
      "\n",
      "precision:  53.94%; recall:  57.03%; F1:  55.44\n",
      "\n",
      "\t     company: precision:   77.06%; recall:   59.56%; F1:   67.19; predicted:   497\n",
      "\n",
      "\t    facility: precision:   51.10%; recall:   58.92%; F1:   54.73; predicted:   362\n",
      "\n",
      "\t     geo-loc: precision:   72.71%; recall:   83.73%; F1:   77.83; predicted:  1147\n",
      "\n",
      "\t       movie: precision:    0.00%; recall:    0.00%; F1:    0.00; predicted:     0\n",
      "\n",
      "\t musicartist: precision:   20.00%; recall:    0.43%; F1:    0.84; predicted:     5\n",
      "\n",
      "\t       other: precision:   37.29%; recall:   46.50%; F1:   41.39; predicted:   944\n",
      "\n",
      "\t      person: precision:   46.77%; recall:   82.51%; F1:   59.70; predicted:  1563\n",
      "\n",
      "\t     product: precision:   32.46%; recall:   23.27%; F1:   27.11; predicted:   228\n",
      "\n",
      "\t  sportsteam: precision:    0.00%; recall:    0.00%; F1:    0.00; predicted:     0\n",
      "\n",
      "\t      tvshow: precision:    0.00%; recall:    0.00%; F1:    0.00; predicted:     0\n",
      "\n",
      "-------------------- Validation set quality: --------------------\n",
      "processed 12836 tokens with 537 phrases; found: 382 phrases; correct: 150.\n",
      "\n",
      "precision:  39.27%; recall:  27.93%; F1:  32.64\n",
      "\n",
      "\t     company: precision:   72.13%; recall:   42.31%; F1:   53.33; predicted:    61\n",
      "\n",
      "\t    facility: precision:   37.93%; recall:   32.35%; F1:   34.92; predicted:    29\n",
      "\n",
      "\t     geo-loc: precision:   61.73%; recall:   44.25%; F1:   51.55; predicted:    81\n",
      "\n",
      "\t       movie: precision:    0.00%; recall:    0.00%; F1:    0.00; predicted:     0\n",
      "\n",
      "\t musicartist: precision:    0.00%; recall:    0.00%; F1:    0.00; predicted:     0\n",
      "\n",
      "\t       other: precision:   21.15%; recall:   27.16%; F1:   23.78; predicted:   104\n",
      "\n",
      "\t      person: precision:   25.84%; recall:   20.54%; F1:   22.89; predicted:    89\n",
      "\n",
      "\t     product: precision:    0.00%; recall:    0.00%; F1:    0.00; predicted:    18\n",
      "\n",
      "\t  sportsteam: precision:    0.00%; recall:    0.00%; F1:    0.00; predicted:     0\n",
      "\n",
      "\t      tvshow: precision:    0.00%; recall:    0.00%; F1:    0.00; predicted:     0\n",
      "\n",
      "-------------------- Test set quality: --------------------\n",
      "processed 13258 tokens with 604 phrases; found: 433 phrases; correct: 181.\n",
      "\n",
      "precision:  41.80%; recall:  29.97%; F1:  34.91\n",
      "\n",
      "\t     company: precision:   64.10%; recall:   29.76%; F1:   40.65; predicted:    39\n",
      "\n",
      "\t    facility: precision:   37.21%; recall:   34.04%; F1:   35.56; predicted:    43\n",
      "\n",
      "\t     geo-loc: precision:   68.03%; recall:   50.30%; F1:   57.84; predicted:   122\n",
      "\n",
      "\t       movie: precision:    0.00%; recall:    0.00%; F1:    0.00; predicted:     0\n",
      "\n",
      "\t musicartist: precision:    0.00%; recall:    0.00%; F1:    0.00; predicted:     0\n",
      "\n",
      "\t       other: precision:   15.53%; recall:   15.53%; F1:   15.53; predicted:   103\n",
      "\n",
      "\t      person: precision:   35.09%; recall:   38.46%; F1:   36.70; predicted:   114\n",
      "\n",
      "\t     product: precision:    8.33%; recall:    3.57%; F1:    5.00; predicted:    12\n",
      "\n",
      "\t  sportsteam: precision:    0.00%; recall:    0.00%; F1:    0.00; predicted:     0\n",
      "\n",
      "\t      tvshow: precision:    0.00%; recall:    0.00%; F1:    0.00; predicted:     0\n",
      "\n"
     ]
    }
   ],
   "source": [
    "print('-' * 20 + ' Train set quality: ' + '-' * 20)\n",
    "train_results = eval_conll(model, sess, train_tokens, train_tags, short_report=False)\n",
    "\n",
    "print('-' * 20 + ' Validation set quality: ' + '-' * 20)\n",
    "validation_results = eval_conll(model, sess, validation_tokens, validation_tags, short_report=False)\n",
    "\n",
    "print('-' * 20 + ' Test set quality: ' + '-' * 20)\n",
    "test_results =eval_conll(model, sess, test_tokens, test_tags, short_report=False)"
   ]
  },
  {
   "cell_type": "markdown",
   "metadata": {},
   "source": [
    "### Conclusions\n",
    "\n",
    "Could we say that our model is state of the art and the results are acceptable for the task? Definately, we can say so. Nowadays, Bi-LSTM is one of the state of the art approaches for solving NER problem and it outperforms other classical methods. Despite the fact that we used small training corpora (in comparison with usual sizes of corpora in Deep Learning), our results are quite good. In addition, in this task there are many possible named entities and for some of them we have only several dozens of trainig examples, which is definately small. However, the implemented model outperforms classical CRFs for this task. Even better results could be obtained by some combinations of several types of methods, e.g. see [this](https://arxiv.org/abs/1603.01354) paper if you are interested."
   ]
  }
 ],
 "metadata": {
  "kernelspec": {
   "display_name": "Python 3",
   "language": "python",
   "name": "python3"
  },
  "language_info": {
   "codemirror_mode": {
    "name": "ipython",
    "version": 3
   },
   "file_extension": ".py",
   "mimetype": "text/x-python",
   "name": "python",
   "nbconvert_exporter": "python",
   "pygments_lexer": "ipython3",
   "version": "3.6.4"
  }
 },
 "nbformat": 4,
 "nbformat_minor": 1
}
